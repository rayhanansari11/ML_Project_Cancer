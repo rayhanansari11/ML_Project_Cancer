{
 "cells": [
  {
   "cell_type": "code",
   "execution_count": 29,
   "id": "85f19a9e",
   "metadata": {},
   "outputs": [],
   "source": [
    "import pandas as pd\n",
    "import numpy as np\n",
    "import joblib\n",
    "from sklearn.model_selection import train_test_split\n",
    "from sklearn.pipeline import Pipeline\n",
    "from sklearn.impute import SimpleImputer\n",
    "from sklearn.preprocessing import StandardScaler\n",
    "from sklearn.compose import ColumnTransformer\n",
    "from sklearn.linear_model import LogisticRegression\n",
    "from sklearn.ensemble import RandomForestClassifier\n",
    "from sklearn.svm import SVC\n",
    "from sklearn.tree import DecisionTreeClassifier\n",
    "from sklearn.ensemble import GradientBoostingClassifier\n",
    "from sklearn.metrics import r2_score, mean_absolute_error, mean_squared_error\n",
    "from sklearn.metrics import accuracy_score"
   ]
  },
  {
   "cell_type": "code",
   "execution_count": 30,
   "id": "65ea7c7e",
   "metadata": {},
   "outputs": [
    {
     "data": {
      "text/html": [
       "<div>\n",
       "<style scoped>\n",
       "    .dataframe tbody tr th:only-of-type {\n",
       "        vertical-align: middle;\n",
       "    }\n",
       "\n",
       "    .dataframe tbody tr th {\n",
       "        vertical-align: top;\n",
       "    }\n",
       "\n",
       "    .dataframe thead th {\n",
       "        text-align: right;\n",
       "    }\n",
       "</style>\n",
       "<table border=\"1\" class=\"dataframe\">\n",
       "  <thead>\n",
       "    <tr style=\"text-align: right;\">\n",
       "      <th></th>\n",
       "      <th>Age</th>\n",
       "      <th>Gender</th>\n",
       "      <th>BMI</th>\n",
       "      <th>Smoking</th>\n",
       "      <th>GeneticRisk</th>\n",
       "      <th>PhysicalActivity</th>\n",
       "      <th>AlcoholIntake</th>\n",
       "      <th>CancerHistory</th>\n",
       "      <th>Diagnosis</th>\n",
       "    </tr>\n",
       "  </thead>\n",
       "  <tbody>\n",
       "    <tr>\n",
       "      <th>0</th>\n",
       "      <td>58</td>\n",
       "      <td>1</td>\n",
       "      <td>16.085313</td>\n",
       "      <td>0</td>\n",
       "      <td>1</td>\n",
       "      <td>8.146251</td>\n",
       "      <td>4.148219</td>\n",
       "      <td>1</td>\n",
       "      <td>1</td>\n",
       "    </tr>\n",
       "    <tr>\n",
       "      <th>1</th>\n",
       "      <td>71</td>\n",
       "      <td>0</td>\n",
       "      <td>30.828784</td>\n",
       "      <td>0</td>\n",
       "      <td>1</td>\n",
       "      <td>9.361630</td>\n",
       "      <td>3.519683</td>\n",
       "      <td>0</td>\n",
       "      <td>0</td>\n",
       "    </tr>\n",
       "    <tr>\n",
       "      <th>2</th>\n",
       "      <td>48</td>\n",
       "      <td>1</td>\n",
       "      <td>38.785084</td>\n",
       "      <td>0</td>\n",
       "      <td>2</td>\n",
       "      <td>5.135179</td>\n",
       "      <td>4.728368</td>\n",
       "      <td>0</td>\n",
       "      <td>1</td>\n",
       "    </tr>\n",
       "    <tr>\n",
       "      <th>3</th>\n",
       "      <td>34</td>\n",
       "      <td>0</td>\n",
       "      <td>30.040296</td>\n",
       "      <td>0</td>\n",
       "      <td>0</td>\n",
       "      <td>9.502792</td>\n",
       "      <td>2.044636</td>\n",
       "      <td>0</td>\n",
       "      <td>0</td>\n",
       "    </tr>\n",
       "    <tr>\n",
       "      <th>4</th>\n",
       "      <td>62</td>\n",
       "      <td>1</td>\n",
       "      <td>35.479721</td>\n",
       "      <td>0</td>\n",
       "      <td>0</td>\n",
       "      <td>5.356890</td>\n",
       "      <td>3.309849</td>\n",
       "      <td>0</td>\n",
       "      <td>1</td>\n",
       "    </tr>\n",
       "  </tbody>\n",
       "</table>\n",
       "</div>"
      ],
      "text/plain": [
       "   Age  Gender        BMI  Smoking  GeneticRisk  PhysicalActivity  \\\n",
       "0   58       1  16.085313        0            1          8.146251   \n",
       "1   71       0  30.828784        0            1          9.361630   \n",
       "2   48       1  38.785084        0            2          5.135179   \n",
       "3   34       0  30.040296        0            0          9.502792   \n",
       "4   62       1  35.479721        0            0          5.356890   \n",
       "\n",
       "   AlcoholIntake  CancerHistory  Diagnosis  \n",
       "0       4.148219              1          1  \n",
       "1       3.519683              0          0  \n",
       "2       4.728368              0          1  \n",
       "3       2.044636              0          0  \n",
       "4       3.309849              0          1  "
      ]
     },
     "execution_count": 30,
     "metadata": {},
     "output_type": "execute_result"
    }
   ],
   "source": [
    "data = pd.read_csv(r\"C:\\Users\\Rayhan\\OneDrive\\Desktop\\Cancer Prediction ML project\\data\\The_Cancer_data_V2.csv\")\n",
    "data.head()"
   ]
  },
  {
   "cell_type": "code",
   "execution_count": 31,
   "id": "74db480c",
   "metadata": {},
   "outputs": [],
   "source": [
    "# Features and Target\n",
    "X = data.drop(\"Diagnosis\", axis=1)\n",
    "y = data[\"Diagnosis\"]\n"
   ]
  },
  {
   "cell_type": "code",
   "execution_count": 32,
   "id": "da6a4554",
   "metadata": {},
   "outputs": [],
   "source": [
    "# Train-Test Split\n",
    "X_train, X_test, y_train, y_test = train_test_split(X, y, test_size=0.2, random_state=42)\n",
    "\n",
    "# save train and test sets\n",
    "X_train.to_csv(\"C:/Users/Rayhan/OneDrive/Desktop/anaconda -Cancer Prediction ML project/data/X_train.csv\", index=False)\n",
    "X_test.to_csv(\"C:/Users/Rayhan/OneDrive/Desktop/anaconda -Cancer Prediction ML project/data/X_test.csv\", index=False)\n"
   ]
  },
  {
   "cell_type": "code",
   "execution_count": 33,
   "id": "64180e4e",
   "metadata": {},
   "outputs": [],
   "source": [
    "# Numeric Preprocessing\n",
    "num_features = X.select_dtypes(include=np.number).columns\n",
    "num_pipeline = Pipeline([\n",
    "    ('imputer', SimpleImputer(strategy=\"mean\")),\n",
    "    ('scaler', StandardScaler())\n",
    "])\n",
    "preprocessor = ColumnTransformer([\n",
    "    ('num', num_pipeline, num_features)\n",
    "])"
   ]
  },
  {
   "cell_type": "code",
   "execution_count": 34,
   "id": "aa68e65c",
   "metadata": {},
   "outputs": [
    {
     "name": "stdout",
     "output_type": "stream",
     "text": [
      "LogisticRegression Accuracy: 0.8633\n",
      "RandomForest Accuracy: 0.9300\n",
      "SVM Accuracy: 0.8900\n",
      "DecisionTreeClassifier Accuracy: 0.8767\n",
      "GradientBoosting Accuracy: 0.9333\n"
     ]
    }
   ],
   "source": [
    "# Define models to compare\n",
    "models = {\n",
    "    \"LogisticRegression\": LogisticRegression(max_iter=1000),\n",
    "    \"RandomForest\": RandomForestClassifier(n_estimators=100, random_state=42),\n",
    "    \"SVM\": SVC(probability=True, random_state=42),\n",
    "    \"DecisionTreeClassifier\": DecisionTreeClassifier(random_state=42),\n",
    "    \"GradientBoosting\": GradientBoostingClassifier(n_estimators=100, random_state=42)\n",
    "}\n",
    "\n",
    "# Store performance\n",
    "model_scores = {}\n",
    "pipelines = {}\n",
    "\n",
    "# Train and evaluate each model\n",
    "for name, clf in models.items():\n",
    "    pipeline = Pipeline([\n",
    "        (\"preprocessor\", preprocessor),\n",
    "        (\"model\", clf)\n",
    "    ])\n",
    "    pipeline.fit(X_train, y_train)\n",
    "    y_pred = pipeline.predict(X_test)\n",
    "    acc = accuracy_score(y_test, y_pred)\n",
    "    model_scores[name] = acc\n",
    "    pipelines[name] = pipeline\n",
    "    print(f\"{name} Accuracy: {acc:.4f}\")"
   ]
  },
  {
   "cell_type": "code",
   "execution_count": 35,
   "id": "745124a6",
   "metadata": {},
   "outputs": [],
   "source": [
    "# Choose best model\n",
    "best_model_name = max(model_scores, key=model_scores.get)\n",
    "best_pipeline = pipelines[best_model_name]"
   ]
  },
  {
   "cell_type": "code",
   "execution_count": 36,
   "id": "4795741e",
   "metadata": {},
   "outputs": [
    {
     "name": "stdout",
     "output_type": "stream",
     "text": [
      "\n",
      "✅ Best model: GradientBoosting saved as cancer_model.pkl\n"
     ]
    }
   ],
   "source": [
    "# Save best model\n",
    "joblib.dump(best_pipeline, r\"C:\\Users\\Rayhan\\OneDrive\\Desktop\\anaconda -Cancer Prediction ML project\\models\\cancer_model.pkl\")\n",
    "print(f\"\\n✅ Best model: {best_model_name} saved as cancer_model.pkl\")"
   ]
  },
  {
   "cell_type": "code",
   "execution_count": null,
   "id": "c8bb1bd4",
   "metadata": {},
   "outputs": [],
   "source": []
  },
  {
   "cell_type": "code",
   "execution_count": null,
   "id": "6486a78c",
   "metadata": {},
   "outputs": [],
   "source": []
  }
 ],
 "metadata": {
  "kernelspec": {
   "display_name": "Python 3",
   "language": "python",
   "name": "python3"
  },
  "language_info": {
   "codemirror_mode": {
    "name": "ipython",
    "version": 3
   },
   "file_extension": ".py",
   "mimetype": "text/x-python",
   "name": "python",
   "nbconvert_exporter": "python",
   "pygments_lexer": "ipython3",
   "version": "3.11.4"
  }
 },
 "nbformat": 4,
 "nbformat_minor": 5
}
